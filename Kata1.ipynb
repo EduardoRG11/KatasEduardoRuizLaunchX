{
  "cells": [
    {
      "cell_type": "markdown",
      "metadata": {},
      "source": [
        "Tu primer programa"
      ]
    },
    {
      "cell_type": "code",
      "execution_count": 7,
      "metadata": {},
      "outputs": [
        {
          "name": "stdout",
          "output_type": "stream",
          "text": [
            "La fecha de hoy es: 2022-02-15\n"
          ]
        }
      ],
      "source": [
        "from datetime import date\n",
        "\n",
        "print(\"La fecha de hoy es: \" + str(date.today()))"
      ]
    },
    {
      "cell_type": "markdown",
      "metadata": {},
      "source": [
        "Construir un convertidor de unidades"
      ]
    },
    {
      "cell_type": "code",
      "execution_count": 15,
      "metadata": {},
      "outputs": [
        {
          "name": "stdout",
          "output_type": "stream",
          "text": [
            "20 parsec, son 65.2312 Años luz.\n"
          ]
        }
      ],
      "source": [
        "parsec = 20\n",
        "\n",
        "lightyears = parsec * 3.26156\n",
        "\n",
        "print(str(parsec) + \" parsec, son \" + str(lightyears) + \" Años luz.\")"
      ]
    }
  ],
  "metadata": {
    "interpreter": {
      "hash": "fb0a2faaa38779ddc30df252b8cd704f50f23ef01180531a2cf8810d1258797d"
    },
    "kernel_info": {
      "name": "conda-env-py37_default-py"
    },
    "kernelspec": {
      "display_name": "py37_default",
      "language": "python",
      "name": "python3"
    },
    "language_info": {
      "codemirror_mode": {
        "name": "ipython",
        "version": 3
      },
      "file_extension": ".py",
      "mimetype": "text/x-python",
      "name": "python",
      "nbconvert_exporter": "python",
      "pygments_lexer": "ipython3",
      "version": "3.10.2"
    },
    "nteract": {
      "version": "nteract-front-end@1.0.0"
    },
    "orig_nbformat": 4
  },
  "nbformat": 4,
  "nbformat_minor": 2
}
